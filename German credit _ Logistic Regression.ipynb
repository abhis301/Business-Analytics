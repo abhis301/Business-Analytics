{
 "cells": [
  {
   "cell_type": "code",
   "execution_count": 130,
   "metadata": {
    "collapsed": false
   },
   "outputs": [
    {
     "data": {
      "application/javascript": [
       "$.getScript('https://kmahelona.github.io/ipython_notebook_goodies/ipython_notebook_toc.js')"
      ],
      "text/plain": [
       "<IPython.core.display.Javascript object>"
      ]
     },
     "metadata": {},
     "output_type": "display_data"
    }
   ],
   "source": [
    "%%javascript\n",
    "$.getScript('https://kmahelona.github.io/ipython_notebook_goodies/ipython_notebook_toc.js')"
   ]
  },
  {
   "cell_type": "markdown",
   "metadata": {},
   "source": [
    "<h1 id=\"tocheading\">Table of Contents</h1>\n",
    "<div id=\"toc\"></div>"
   ]
  },
  {
   "cell_type": "code",
   "execution_count": 132,
   "metadata": {
    "collapsed": true
   },
   "outputs": [],
   "source": [
    "from __future__ import division\n",
    "%matplotlib inline\n",
    "import numpy as np\n",
    "import pandas as pd\n",
    "import matplotlib.pyplot as plt\n",
    "import statsmodels.api as sm\n",
    "from sklearn.model_selection import train_test_split\n"
   ]
  },
  {
   "cell_type": "code",
   "execution_count": 133,
   "metadata": {
    "collapsed": true
   },
   "outputs": [],
   "source": [
    "df = pd.read_csv(\"D:\\WEBSITE\\german_credit.csv\")"
   ]
  },
  {
   "cell_type": "markdown",
   "metadata": {},
   "source": [
    "## Summmary of the numeric variables"
   ]
  },
  {
   "cell_type": "code",
   "execution_count": 134,
   "metadata": {
    "collapsed": false
   },
   "outputs": [
    {
     "data": {
      "text/plain": [
       "Index([u'Creditability', u'Account Balance', u'Duration of Credit (month)',\n",
       "       u'Payment Status of Previous Credit', u'Purpose', u'Credit Amount',\n",
       "       u'Value Savings/Stocks', u'Length of current employment',\n",
       "       u'Instalment per cent', u'Sex & Marital Status', u'Guarantors',\n",
       "       u'Duration in Current address', u'Most valuable available asset',\n",
       "       u'Age (years)', u'Concurrent Credits', u'Type of apartment',\n",
       "       u'No of Credits at this Bank', u'Occupation', u'No of dependents',\n",
       "       u'Telephone', u'Foreign Worker'],\n",
       "      dtype='object')"
      ]
     },
     "execution_count": 134,
     "metadata": {},
     "output_type": "execute_result"
    }
   ],
   "source": [
    "df.columns"
   ]
  },
  {
   "cell_type": "code",
   "execution_count": 135,
   "metadata": {
    "collapsed": false
   },
   "outputs": [
    {
     "data": {
      "text/html": [
       "<div>\n",
       "<table border=\"1\" class=\"dataframe\">\n",
       "  <thead>\n",
       "    <tr style=\"text-align: right;\">\n",
       "      <th></th>\n",
       "      <th>Duration of Credit (month)</th>\n",
       "      <th>Credit Amount</th>\n",
       "      <th>Age (years)</th>\n",
       "    </tr>\n",
       "  </thead>\n",
       "  <tbody>\n",
       "    <tr>\n",
       "      <th>count</th>\n",
       "      <td>1000.000000</td>\n",
       "      <td>1000.00000</td>\n",
       "      <td>1000.00000</td>\n",
       "    </tr>\n",
       "    <tr>\n",
       "      <th>mean</th>\n",
       "      <td>20.903000</td>\n",
       "      <td>3271.24800</td>\n",
       "      <td>35.54200</td>\n",
       "    </tr>\n",
       "    <tr>\n",
       "      <th>std</th>\n",
       "      <td>12.058814</td>\n",
       "      <td>2822.75176</td>\n",
       "      <td>11.35267</td>\n",
       "    </tr>\n",
       "    <tr>\n",
       "      <th>min</th>\n",
       "      <td>4.000000</td>\n",
       "      <td>250.00000</td>\n",
       "      <td>19.00000</td>\n",
       "    </tr>\n",
       "    <tr>\n",
       "      <th>25%</th>\n",
       "      <td>12.000000</td>\n",
       "      <td>1365.50000</td>\n",
       "      <td>27.00000</td>\n",
       "    </tr>\n",
       "    <tr>\n",
       "      <th>50%</th>\n",
       "      <td>18.000000</td>\n",
       "      <td>2319.50000</td>\n",
       "      <td>33.00000</td>\n",
       "    </tr>\n",
       "    <tr>\n",
       "      <th>75%</th>\n",
       "      <td>24.000000</td>\n",
       "      <td>3972.25000</td>\n",
       "      <td>42.00000</td>\n",
       "    </tr>\n",
       "    <tr>\n",
       "      <th>max</th>\n",
       "      <td>72.000000</td>\n",
       "      <td>18424.00000</td>\n",
       "      <td>75.00000</td>\n",
       "    </tr>\n",
       "  </tbody>\n",
       "</table>\n",
       "</div>"
      ],
      "text/plain": [
       "       Duration of Credit (month)  Credit Amount  Age (years)\n",
       "count                 1000.000000     1000.00000   1000.00000\n",
       "mean                    20.903000     3271.24800     35.54200\n",
       "std                     12.058814     2822.75176     11.35267\n",
       "min                      4.000000      250.00000     19.00000\n",
       "25%                     12.000000     1365.50000     27.00000\n",
       "50%                     18.000000     2319.50000     33.00000\n",
       "75%                     24.000000     3972.25000     42.00000\n",
       "max                     72.000000    18424.00000     75.00000"
      ]
     },
     "execution_count": 135,
     "metadata": {},
     "output_type": "execute_result"
    }
   ],
   "source": [
    "df1 = df[['Duration of Credit (month)','Credit Amount','Age (years)']].copy()\n",
    "df1.describe()"
   ]
  },
  {
   "cell_type": "code",
   "execution_count": 136,
   "metadata": {
    "collapsed": false
   },
   "outputs": [
    {
     "data": {
      "text/plain": [
       "Index([u'Creditability', u'Account Balance', u'Duration of Credit (month)',\n",
       "       u'Payment Status of Previous Credit', u'Purpose', u'Credit Amount',\n",
       "       u'Value Savings/Stocks', u'Length of current employment',\n",
       "       u'Instalment per cent', u'Sex & Marital Status', u'Guarantors',\n",
       "       u'Duration in Current address', u'Most valuable available asset',\n",
       "       u'Age (years)', u'Concurrent Credits', u'Type of apartment',\n",
       "       u'No of Credits at this Bank', u'Occupation', u'No of dependents',\n",
       "       u'Telephone', u'Foreign Worker'],\n",
       "      dtype='object')"
      ]
     },
     "execution_count": 136,
     "metadata": {},
     "output_type": "execute_result"
    }
   ],
   "source": [
    "df.columns"
   ]
  },
  {
   "cell_type": "markdown",
   "metadata": {},
   "source": [
    "## Segregating response, categorical & numeric variables"
   ]
  },
  {
   "cell_type": "code",
   "execution_count": 137,
   "metadata": {
    "collapsed": false
   },
   "outputs": [],
   "source": [
    "target_var = ['Creditability']\n",
    "cat_var = ['Account Balance', 'Payment Status of Previous Credit', 'Purpose', 'Value Savings/Stocks', \n",
    "           'Length of current employment', 'Instalment per cent', 'Sex & Marital Status', 'Guarantors', \n",
    "           'Duration in Current address', 'Most valuable available asset', 'Concurrent Credits', 'Type of apartment',\n",
    "          'No of Credits at this Bank', 'Occupation', 'No of dependents', 'Telephone', 'Foreign Worker']\n",
    "num_var = ['Duration of Credit (month)', 'Credit Amount', 'Age (years)']"
   ]
  },
  {
   "cell_type": "code",
   "execution_count": 138,
   "metadata": {
    "collapsed": false,
    "scrolled": false
   },
   "outputs": [
    {
     "data": {
      "text/plain": [
       "Index([u'Account Balance', u'Duration of Credit (month)',\n",
       "       u'Payment Status of Previous Credit', u'Purpose', u'Credit Amount',\n",
       "       u'Value Savings/Stocks', u'Length of current employment',\n",
       "       u'Instalment per cent', u'Sex & Marital Status', u'Guarantors',\n",
       "       u'Duration in Current address', u'Most valuable available asset',\n",
       "       u'Age (years)', u'Concurrent Credits', u'Type of apartment',\n",
       "       u'No of Credits at this Bank', u'Occupation', u'No of dependents',\n",
       "       u'Telephone', u'Foreign Worker'],\n",
       "      dtype='object')"
      ]
     },
     "execution_count": 138,
     "metadata": {},
     "output_type": "execute_result"
    }
   ],
   "source": [
    "df1 = df.copy()\n",
    "df1.drop(labels = target_var, axis=1, inplace = True)\n",
    "df1.columns"
   ]
  },
  {
   "cell_type": "markdown",
   "metadata": {},
   "source": [
    "## Creating dummy variables for Categorical Independent Variables"
   ]
  },
  {
   "cell_type": "code",
   "execution_count": 139,
   "metadata": {
    "collapsed": false
   },
   "outputs": [],
   "source": [
    "df2 = pd.get_dummies(data = df1, columns = cat_var, drop_first = False)"
   ]
  },
  {
   "cell_type": "code",
   "execution_count": 140,
   "metadata": {
    "collapsed": false
   },
   "outputs": [
    {
     "data": {
      "text/html": [
       "<div>\n",
       "<table border=\"1\" class=\"dataframe\">\n",
       "  <thead>\n",
       "    <tr style=\"text-align: right;\">\n",
       "      <th></th>\n",
       "      <th>Duration of Credit (month)</th>\n",
       "      <th>Credit Amount</th>\n",
       "      <th>Age (years)</th>\n",
       "      <th>Account Balance_1</th>\n",
       "      <th>Account Balance_2</th>\n",
       "      <th>Account Balance_3</th>\n",
       "      <th>Account Balance_4</th>\n",
       "      <th>Payment Status of Previous Credit_0</th>\n",
       "      <th>Payment Status of Previous Credit_1</th>\n",
       "      <th>Payment Status of Previous Credit_2</th>\n",
       "      <th>...</th>\n",
       "      <th>Occupation_1</th>\n",
       "      <th>Occupation_2</th>\n",
       "      <th>Occupation_3</th>\n",
       "      <th>Occupation_4</th>\n",
       "      <th>No of dependents_1</th>\n",
       "      <th>No of dependents_2</th>\n",
       "      <th>Telephone_1</th>\n",
       "      <th>Telephone_2</th>\n",
       "      <th>Foreign Worker_1</th>\n",
       "      <th>Foreign Worker_2</th>\n",
       "    </tr>\n",
       "  </thead>\n",
       "  <tbody>\n",
       "    <tr>\n",
       "      <th>0</th>\n",
       "      <td>18</td>\n",
       "      <td>1049</td>\n",
       "      <td>21</td>\n",
       "      <td>1</td>\n",
       "      <td>0</td>\n",
       "      <td>0</td>\n",
       "      <td>0</td>\n",
       "      <td>0</td>\n",
       "      <td>0</td>\n",
       "      <td>0</td>\n",
       "      <td>...</td>\n",
       "      <td>0</td>\n",
       "      <td>0</td>\n",
       "      <td>1</td>\n",
       "      <td>0</td>\n",
       "      <td>1</td>\n",
       "      <td>0</td>\n",
       "      <td>1</td>\n",
       "      <td>0</td>\n",
       "      <td>1</td>\n",
       "      <td>0</td>\n",
       "    </tr>\n",
       "    <tr>\n",
       "      <th>1</th>\n",
       "      <td>9</td>\n",
       "      <td>2799</td>\n",
       "      <td>36</td>\n",
       "      <td>1</td>\n",
       "      <td>0</td>\n",
       "      <td>0</td>\n",
       "      <td>0</td>\n",
       "      <td>0</td>\n",
       "      <td>0</td>\n",
       "      <td>0</td>\n",
       "      <td>...</td>\n",
       "      <td>0</td>\n",
       "      <td>0</td>\n",
       "      <td>1</td>\n",
       "      <td>0</td>\n",
       "      <td>0</td>\n",
       "      <td>1</td>\n",
       "      <td>1</td>\n",
       "      <td>0</td>\n",
       "      <td>1</td>\n",
       "      <td>0</td>\n",
       "    </tr>\n",
       "    <tr>\n",
       "      <th>2</th>\n",
       "      <td>12</td>\n",
       "      <td>841</td>\n",
       "      <td>23</td>\n",
       "      <td>0</td>\n",
       "      <td>1</td>\n",
       "      <td>0</td>\n",
       "      <td>0</td>\n",
       "      <td>0</td>\n",
       "      <td>0</td>\n",
       "      <td>1</td>\n",
       "      <td>...</td>\n",
       "      <td>0</td>\n",
       "      <td>1</td>\n",
       "      <td>0</td>\n",
       "      <td>0</td>\n",
       "      <td>1</td>\n",
       "      <td>0</td>\n",
       "      <td>1</td>\n",
       "      <td>0</td>\n",
       "      <td>1</td>\n",
       "      <td>0</td>\n",
       "    </tr>\n",
       "    <tr>\n",
       "      <th>3</th>\n",
       "      <td>12</td>\n",
       "      <td>2122</td>\n",
       "      <td>39</td>\n",
       "      <td>1</td>\n",
       "      <td>0</td>\n",
       "      <td>0</td>\n",
       "      <td>0</td>\n",
       "      <td>0</td>\n",
       "      <td>0</td>\n",
       "      <td>0</td>\n",
       "      <td>...</td>\n",
       "      <td>0</td>\n",
       "      <td>1</td>\n",
       "      <td>0</td>\n",
       "      <td>0</td>\n",
       "      <td>0</td>\n",
       "      <td>1</td>\n",
       "      <td>1</td>\n",
       "      <td>0</td>\n",
       "      <td>0</td>\n",
       "      <td>1</td>\n",
       "    </tr>\n",
       "    <tr>\n",
       "      <th>4</th>\n",
       "      <td>12</td>\n",
       "      <td>2171</td>\n",
       "      <td>38</td>\n",
       "      <td>1</td>\n",
       "      <td>0</td>\n",
       "      <td>0</td>\n",
       "      <td>0</td>\n",
       "      <td>0</td>\n",
       "      <td>0</td>\n",
       "      <td>0</td>\n",
       "      <td>...</td>\n",
       "      <td>0</td>\n",
       "      <td>1</td>\n",
       "      <td>0</td>\n",
       "      <td>0</td>\n",
       "      <td>1</td>\n",
       "      <td>0</td>\n",
       "      <td>1</td>\n",
       "      <td>0</td>\n",
       "      <td>0</td>\n",
       "      <td>1</td>\n",
       "    </tr>\n",
       "  </tbody>\n",
       "</table>\n",
       "<p>5 rows × 71 columns</p>\n",
       "</div>"
      ],
      "text/plain": [
       "   Duration of Credit (month)  Credit Amount  Age (years)  Account Balance_1  \\\n",
       "0                          18           1049           21                  1   \n",
       "1                           9           2799           36                  1   \n",
       "2                          12            841           23                  0   \n",
       "3                          12           2122           39                  1   \n",
       "4                          12           2171           38                  1   \n",
       "\n",
       "   Account Balance_2  Account Balance_3  Account Balance_4  \\\n",
       "0                  0                  0                  0   \n",
       "1                  0                  0                  0   \n",
       "2                  1                  0                  0   \n",
       "3                  0                  0                  0   \n",
       "4                  0                  0                  0   \n",
       "\n",
       "   Payment Status of Previous Credit_0  Payment Status of Previous Credit_1  \\\n",
       "0                                    0                                    0   \n",
       "1                                    0                                    0   \n",
       "2                                    0                                    0   \n",
       "3                                    0                                    0   \n",
       "4                                    0                                    0   \n",
       "\n",
       "   Payment Status of Previous Credit_2        ...         Occupation_1  \\\n",
       "0                                    0        ...                    0   \n",
       "1                                    0        ...                    0   \n",
       "2                                    1        ...                    0   \n",
       "3                                    0        ...                    0   \n",
       "4                                    0        ...                    0   \n",
       "\n",
       "   Occupation_2  Occupation_3  Occupation_4  No of dependents_1  \\\n",
       "0             0             1             0                   1   \n",
       "1             0             1             0                   0   \n",
       "2             1             0             0                   1   \n",
       "3             1             0             0                   0   \n",
       "4             1             0             0                   1   \n",
       "\n",
       "   No of dependents_2  Telephone_1  Telephone_2  Foreign Worker_1  \\\n",
       "0                   0            1            0                 1   \n",
       "1                   1            1            0                 1   \n",
       "2                   0            1            0                 1   \n",
       "3                   1            1            0                 0   \n",
       "4                   0            1            0                 0   \n",
       "\n",
       "   Foreign Worker_2  \n",
       "0                 0  \n",
       "1                 0  \n",
       "2                 0  \n",
       "3                 1  \n",
       "4                 1  \n",
       "\n",
       "[5 rows x 71 columns]"
      ]
     },
     "execution_count": 140,
     "metadata": {},
     "output_type": "execute_result"
    }
   ],
   "source": [
    "df2.head(5)"
   ]
  },
  {
   "cell_type": "markdown",
   "metadata": {},
   "source": [
    "- CREATING X & y to split, train & test"
   ]
  },
  {
   "cell_type": "code",
   "execution_count": 141,
   "metadata": {
    "collapsed": false
   },
   "outputs": [
    {
     "name": "stdout",
     "output_type": "stream",
     "text": [
      "Size of y is (1000L,)\n",
      "Sample output for y : [1 1 1 1 1]\n",
      "Size of X is (1000L, 71L)\n",
      "Sample output forr X :\n",
      " [[  18 1049   21    1    0    0    0    0    0    0    0    1    0    0\n",
      "     1    0    0    0    0    0    0    0    1    0    0    0    0    0\n",
      "     1    0    0    0    0    0    0    1    0    1    0    0    1    0\n",
      "     0    0    0    0    1    0    1    0    0    0    0    1    1    0\n",
      "     0    1    0    0    0    0    0    1    0    1    0    1    0    1\n",
      "     0]\n",
      " [   9 2799   36    1    0    0    0    0    0    0    0    1    1    0\n",
      "     0    0    0    0    0    0    0    0    1    0    0    0    0    0\n",
      "     0    1    0    0    0    1    0    0    0    0    1    0    1    0\n",
      "     0    0    1    0    0    1    0    0    0    0    0    1    1    0\n",
      "     0    0    1    0    0    0    0    1    0    0    1    1    0    1\n",
      "     0]\n",
      " [  12  841   23    0    1    0    0    0    0    1    0    0    0    0\n",
      "     0    0    0    0    0    0    1    0    0    1    0    0    0    0\n",
      "     0    0    1    0    0    1    0    0    0    1    0    0    1    0\n",
      "     0    0    0    0    1    1    0    0    0    0    0    1    1    0\n",
      "     0    1    0    0    0    0    1    0    0    1    0    1    0    1\n",
      "     0]\n",
      " [  12 2122   39    1    0    0    0    0    0    0    0    1    1    0\n",
      "     0    0    0    0    0    0    0    0    1    0    0    0    0    0\n",
      "     0    1    0    0    0    0    1    0    0    0    1    0    1    0\n",
      "     0    0    1    0    0    1    0    0    0    0    0    1    1    0\n",
      "     0    0    1    0    0    0    1    0    0    0    1    1    0    0\n",
      "     1]\n",
      " [  12 2171   38    1    0    0    0    0    0    0    0    1    1    0\n",
      "     0    0    0    0    0    0    0    0    1    0    0    0    0    0\n",
      "     0    1    0    0    0    0    0    1    0    0    1    0    1    0\n",
      "     0    0    0    0    1    0    1    0    0    1    0    0    0    1\n",
      "     0    0    1    0    0    0    1    0    0    1    0    1    0    0\n",
      "     1]]\n"
     ]
    }
   ],
   "source": [
    "y = df[target_var].values\n",
    "X= df2.values\n",
    "y = np.ravel(y)\n",
    "print \"Size of y is {}\".format(y.shape)\n",
    "print \"Sample output for y : {}\".format(y[:5])\n",
    "print \"Size of X is {}\".format(X.shape)\n",
    "print \"Sample output forr X :\\n {}\".format(X[:5,:])"
   ]
  },
  {
   "cell_type": "markdown",
   "metadata": {
    "collapsed": false
   },
   "source": [
    " - Splitting the data into test and train in order to build a model"
   ]
  },
  {
   "cell_type": "code",
   "execution_count": 142,
   "metadata": {
    "collapsed": false
   },
   "outputs": [],
   "source": [
    "X_train, X_test, y_train, y_test = train_test_split(X, y, test_size = 0.5, random_state = 101)"
   ]
  },
  {
   "cell_type": "code",
   "execution_count": 143,
   "metadata": {
    "collapsed": false
   },
   "outputs": [
    {
     "name": "stdout",
     "output_type": "stream",
     "text": [
      "(500L, 71L)\n",
      "(500L,)\n",
      "(500L, 71L)\n",
      "(500L,)\n"
     ]
    }
   ],
   "source": [
    "print X_train.shape\n",
    "print y_train.shape\n",
    "print X_test.shape\n",
    "print y_test.shape"
   ]
  },
  {
   "cell_type": "markdown",
   "metadata": {
    "collapsed": false
   },
   "source": [
    "## Building a Logistic Regression model"
   ]
  },
  {
   "cell_type": "code",
   "execution_count": 144,
   "metadata": {
    "collapsed": false
   },
   "outputs": [],
   "source": [
    "from sklearn.linear_model import LogisticRegression"
   ]
  },
  {
   "cell_type": "code",
   "execution_count": 145,
   "metadata": {
    "collapsed": false
   },
   "outputs": [],
   "source": [
    "model = LogisticRegression()\n",
    "model = model.fit(X_train, y_train)"
   ]
  },
  {
   "cell_type": "markdown",
   "metadata": {
    "collapsed": false
   },
   "source": [
    "- predicting labels for train data"
   ]
  },
  {
   "cell_type": "code",
   "execution_count": 146,
   "metadata": {
    "collapsed": false
   },
   "outputs": [
    {
     "name": "stdout",
     "output_type": "stream",
     "text": [
      "[1 1 1 1 1 0 1 1 0 1]\n"
     ]
    }
   ],
   "source": [
    "#predicting class labels for train set\n",
    "predict_train = model.predict(X_train)\n",
    "print predict_test[:10]"
   ]
  },
  {
   "cell_type": "code",
   "execution_count": 147,
   "metadata": {
    "collapsed": false
   },
   "outputs": [
    {
     "name": "stdout",
     "output_type": "stream",
     "text": [
      "[[ 0.01079808  0.98920192]\n",
      " [ 0.66411547  0.33588453]\n",
      " [ 0.06192476  0.93807524]\n",
      " [ 0.10670916  0.89329084]\n",
      " [ 0.39211537  0.60788463]]\n"
     ]
    }
   ],
   "source": [
    "# predicting probabilities\n",
    "probs = model.predict_proba(X_train)\n",
    "print probs[:5,:]"
   ]
  },
  {
   "cell_type": "markdown",
   "metadata": {},
   "source": [
    "- predicting class labels & scores for test data"
   ]
  },
  {
   "cell_type": "code",
   "execution_count": 148,
   "metadata": {
    "collapsed": false
   },
   "outputs": [
    {
     "name": "stdout",
     "output_type": "stream",
     "text": [
      "[1 1 1 1 1 0 1 1 0 1]\n"
     ]
    }
   ],
   "source": [
    "#predicting class labels for test set\n",
    "predict_test = model.predict(X_test)\n",
    "print predict_test[:10]"
   ]
  },
  {
   "cell_type": "code",
   "execution_count": 149,
   "metadata": {
    "collapsed": false
   },
   "outputs": [
    {
     "name": "stdout",
     "output_type": "stream",
     "text": [
      "[[ 0.22335771  0.77664229]\n",
      " [ 0.19559211  0.80440789]\n",
      " [ 0.01841315  0.98158685]\n",
      " [ 0.24373117  0.75626883]\n",
      " [ 0.06601244  0.93398756]]\n"
     ]
    }
   ],
   "source": [
    "# predicting probabilities\n",
    "probs = model.predict_proba(X_test)\n",
    "print probs[:5,:]"
   ]
  },
  {
   "cell_type": "markdown",
   "metadata": {},
   "source": [
    "- Calculating accuracies"
   ]
  },
  {
   "cell_type": "code",
   "execution_count": 150,
   "metadata": {
    "collapsed": true
   },
   "outputs": [],
   "source": [
    "from sklearn import metrics"
   ]
  },
  {
   "cell_type": "code",
   "execution_count": 151,
   "metadata": {
    "collapsed": false
   },
   "outputs": [
    {
     "name": "stdout",
     "output_type": "stream",
     "text": [
      "Training accuracy is 0.808\n",
      "Test accuracy is 0.768\n"
     ]
    }
   ],
   "source": [
    "print \"Training accuracy is {}\".format(metrics.accuracy_score(y_train,predict_train))\n",
    "print \"Test accuracy is {}\".format(metrics.accuracy_score(y_test,predict_test))"
   ]
  },
  {
   "cell_type": "markdown",
   "metadata": {
    "collapsed": false
   },
   "source": [
    "- Creating a confusion matrix"
   ]
  },
  {
   "cell_type": "code",
   "execution_count": 152,
   "metadata": {
    "collapsed": false
   },
   "outputs": [
    {
     "name": "stdout",
     "output_type": "stream",
     "text": [
      "[[ 69  79]\n",
      " [ 37 315]]\n"
     ]
    }
   ],
   "source": [
    "print metrics.confusion_matrix(y_test, predict_test, labels = [0,1] )"
   ]
  },
  {
   "cell_type": "markdown",
   "metadata": {},
   "source": [
    "- Classification report"
   ]
  },
  {
   "cell_type": "code",
   "execution_count": 153,
   "metadata": {
    "collapsed": false
   },
   "outputs": [
    {
     "name": "stdout",
     "output_type": "stream",
     "text": [
      "             precision    recall  f1-score   support\n",
      "\n",
      "          0       0.65      0.47      0.54       148\n",
      "          1       0.80      0.89      0.84       352\n",
      "\n",
      "avg / total       0.76      0.77      0.76       500\n",
      "\n"
     ]
    }
   ],
   "source": [
    "print metrics.classification_report(y_test, predict_test)"
   ]
  },
  {
   "cell_type": "markdown",
   "metadata": {},
   "source": [
    "- Introducing cross validation and calculating scores"
   ]
  },
  {
   "cell_type": "code",
   "execution_count": 154,
   "metadata": {
    "collapsed": false
   },
   "outputs": [],
   "source": [
    "from sklearn.cross_validation import cross_val_score"
   ]
  },
  {
   "cell_type": "code",
   "execution_count": 155,
   "metadata": {
    "collapsed": false
   },
   "outputs": [
    {
     "data": {
      "text/plain": [
       "<function sklearn.cross_validation.cross_val_score>"
      ]
     },
     "execution_count": 155,
     "metadata": {},
     "output_type": "execute_result"
    }
   ],
   "source": [
    "cross_val_score"
   ]
  },
  {
   "cell_type": "code",
   "execution_count": 156,
   "metadata": {
    "collapsed": false
   },
   "outputs": [
    {
     "name": "stdout",
     "output_type": "stream",
     "text": [
      "Mean validation accuracy across 10 splits for train data\n"
     ]
    }
   ],
   "source": [
    "print \"Mean validation accuracy across 10 splits for train data\".format(np.mean(cross_val_score(model, X_train, y_train, scoring = 'accuracy', cv = 10)))"
   ]
  },
  {
   "cell_type": "code",
   "execution_count": 157,
   "metadata": {
    "collapsed": false
   },
   "outputs": [
    {
     "name": "stdout",
     "output_type": "stream",
     "text": [
      "0.721\n"
     ]
    }
   ],
   "source": [
    "print np.mean(cross_val_score(model, X, y, scoring = 'accuracy', cv = 10))"
   ]
  },
  {
   "cell_type": "markdown",
   "metadata": {},
   "source": [
    "- Receiver operating characteristics for the model"
   ]
  },
  {
   "cell_type": "code",
   "execution_count": 158,
   "metadata": {
    "collapsed": false
   },
   "outputs": [],
   "source": [
    "# An ROC plot\n",
    "from sklearn.metrics import roc_auc_score,r2_score\n",
    "from sklearn.metrics import roc_curve, auc"
   ]
  },
  {
   "cell_type": "code",
   "execution_count": 159,
   "metadata": {
    "collapsed": false
   },
   "outputs": [],
   "source": [
    "fpr, tpr, thresholds = metrics.roc_curve(y_test, probs[:,1], pos_label= 1 )"
   ]
  },
  {
   "cell_type": "code",
   "execution_count": 160,
   "metadata": {
    "collapsed": false
   },
   "outputs": [
    {
     "name": "stdout",
     "output_type": "stream",
     "text": [
      "(163L,)\n",
      "(163L,)\n",
      "(163L,)\n"
     ]
    }
   ],
   "source": [
    "print fpr.shape\n",
    "print tpr.shape\n",
    "print thresholds.shape"
   ]
  },
  {
   "cell_type": "code",
   "execution_count": 128,
   "metadata": {
    "collapsed": false
   },
   "outputs": [
    {
     "data": {
      "image/png": "[encoded data removed]",
      "text/plain": [
       "<matplotlib.figure.Figure at 0xd6dc4a8>"
      ]
     },
     "metadata": {},
     "output_type": "display_data"
    },
    {
     "name": "stdout",
     "output_type": "stream",
     "text": [
      "Area under the curve is 0.789715141278\n"
     ]
    }
   ],
   "source": [
    "#plotting the ROC curve\n",
    "plt.figure()\n",
    "plt.plot(fpr, tpr, 'r')\n",
    "plt.xlabel(\"False Positive Rate\")\n",
    "plt.ylabel(\"True Positive Rate\")\n",
    "plt.show()\n",
    "\n",
    "#Calculating Area under the curve\n",
    "print \"Area under the curve is {}\".format(metrics.auc(fpr,tpr))"
   ]
  }
 ],
 "metadata": {
  "anaconda-cloud": {},
  "kernelspec": {
   "display_name": "Python [conda root]",
   "language": "python",
   "name": "conda-root-py"
  },
  "language_info": {
   "codemirror_mode": {
    "name": "ipython",
    "version": 2
   },
   "file_extension": ".py",
   "mimetype": "text/x-python",
   "name": "python",
   "nbconvert_exporter": "python",
   "pygments_lexer": "ipython2",
   "version": "2.7.12"
  }
 },
 "nbformat": 4,
 "nbformat_minor": 1
}
