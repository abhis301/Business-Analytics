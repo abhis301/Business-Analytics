{
 "cells": [
  {
   "cell_type": "code",
   "execution_count": 1,
   "metadata": {
    "collapsed": false
   },
   "outputs": [
    {
     "data": {
      "application/javascript": [
       "$.getScript('https://kmahelona.github.io/ipython_notebook_goodies/ipython_notebook_toc.js')"
      ],
      "text/plain": [
       "<IPython.core.display.Javascript object>"
      ]
     },
     "metadata": {},
     "output_type": "display_data"
    }
   ],
   "source": [
    "%%javascript\n",
    "$.getScript('https://kmahelona.github.io/ipython_notebook_goodies/ipython_notebook_toc.js')"
   ]
  },
  {
   "cell_type": "markdown",
   "metadata": {},
   "source": [
    "<h1 id=\"tocheading\">Table of Contents</h1>\n",
    "<div id=\"toc\"></div>"
   ]
  },
  {
   "cell_type": "markdown",
   "metadata": {},
   "source": [
    "## A brief summary about Random Forest"
   ]
  },
  {
   "cell_type": "markdown",
   "metadata": {},
   "source": [
    "- Random forest, as the name suggests, is a collection of decision trees.\n",
    "- Consider a random sample of data, build a decision tree on a certain number of predictors and repeat the process until a forest\n",
    "is built. \n",
    "-- The data is sampled using \"bootstrap\" sampling techniques. In statistics, bootstrapping means sampling data by replacement.\n",
    "- The \"Out of bag error estimate\" gives an unbiased error estimate of each decision tree in the random forest.\n",
    "-- \"Out of bag\" samples are samples left out after bootstrapping. \n",
    "- The number of features cosidered for split is usually sqrt(N) where N is the total number of features."
   ]
  },
  {
   "cell_type": "code",
   "execution_count": 24,
   "metadata": {
    "collapsed": false
   },
   "outputs": [],
   "source": [
    "from __future__ import division\n",
    "%matplotlib inline\n",
    "import numpy as np\n",
    "import pandas as pd\n",
    "import matplotlib.pyplot as plt\n",
    "from sklearn.model_selection import train_test_split\n",
    "from sklearn import tree\n",
    "from sklearn import metrics\n",
    "from sklearn.cross_validation import cross_val_score\n",
    "from sklearn.metrics import roc_auc_score,r2_score\n",
    "from sklearn.metrics import roc_curve, auc\n",
    "from sklearn.ensemble import RandomForestClassifier\n",
    "from sklearn.linear_model import LogisticRegression"
   ]
  },
  {
   "cell_type": "code",
   "execution_count": 11,
   "metadata": {
    "collapsed": true
   },
   "outputs": [],
   "source": [
    "df = pd.read_csv(\"D:\\WEBSITE\\german_credit.csv\")"
   ]
  },
  {
   "cell_type": "markdown",
   "metadata": {},
   "source": [
    "## Segregating response, categorical & numeric variables"
   ]
  },
  {
   "cell_type": "code",
   "execution_count": 12,
   "metadata": {
    "collapsed": true
   },
   "outputs": [],
   "source": [
    "target_var = ['Creditability']\n",
    "cat_var = ['Account Balance', 'Payment Status of Previous Credit', 'Purpose', 'Value Savings/Stocks', \n",
    "           'Length of current employment', 'Instalment per cent', 'Sex & Marital Status', 'Guarantors', \n",
    "           'Duration in Current address', 'Most valuable available asset', 'Concurrent Credits', 'Type of apartment',\n",
    "          'No of Credits at this Bank', 'Occupation', 'No of dependents', 'Telephone', 'Foreign Worker']\n",
    "num_var = ['Duration of Credit (month)', 'Credit Amount', 'Age (years)']"
   ]
  },
  {
   "cell_type": "code",
   "execution_count": 13,
   "metadata": {
    "collapsed": false
   },
   "outputs": [
    {
     "data": {
      "text/plain": [
       "Index([u'Account Balance', u'Duration of Credit (month)',\n",
       "       u'Payment Status of Previous Credit', u'Purpose', u'Credit Amount',\n",
       "       u'Value Savings/Stocks', u'Length of current employment',\n",
       "       u'Instalment per cent', u'Sex & Marital Status', u'Guarantors',\n",
       "       u'Duration in Current address', u'Most valuable available asset',\n",
       "       u'Age (years)', u'Concurrent Credits', u'Type of apartment',\n",
       "       u'No of Credits at this Bank', u'Occupation', u'No of dependents',\n",
       "       u'Telephone', u'Foreign Worker'],\n",
       "      dtype='object')"
      ]
     },
     "execution_count": 13,
     "metadata": {},
     "output_type": "execute_result"
    }
   ],
   "source": [
    "df1 = df.copy()\n",
    "df1.drop(labels = target_var, axis=1, inplace = True)\n",
    "df1.columns"
   ]
  },
  {
   "cell_type": "markdown",
   "metadata": {},
   "source": [
    "## Data Tranformation of Categorical Independent Variables"
   ]
  },
  {
   "cell_type": "code",
   "execution_count": 14,
   "metadata": {
    "collapsed": false
   },
   "outputs": [
    {
     "data": {
      "text/html": [
       "<div>\n",
       "<table border=\"1\" class=\"dataframe\">\n",
       "  <thead>\n",
       "    <tr style=\"text-align: right;\">\n",
       "      <th></th>\n",
       "      <th>Duration of Credit (month)</th>\n",
       "      <th>Credit Amount</th>\n",
       "      <th>Age (years)</th>\n",
       "      <th>Account Balance_1</th>\n",
       "      <th>Account Balance_2</th>\n",
       "      <th>Account Balance_3</th>\n",
       "      <th>Account Balance_4</th>\n",
       "      <th>Payment Status of Previous Credit_0</th>\n",
       "      <th>Payment Status of Previous Credit_1</th>\n",
       "      <th>Payment Status of Previous Credit_2</th>\n",
       "      <th>...</th>\n",
       "      <th>Occupation_1</th>\n",
       "      <th>Occupation_2</th>\n",
       "      <th>Occupation_3</th>\n",
       "      <th>Occupation_4</th>\n",
       "      <th>No of dependents_1</th>\n",
       "      <th>No of dependents_2</th>\n",
       "      <th>Telephone_1</th>\n",
       "      <th>Telephone_2</th>\n",
       "      <th>Foreign Worker_1</th>\n",
       "      <th>Foreign Worker_2</th>\n",
       "    </tr>\n",
       "  </thead>\n",
       "  <tbody>\n",
       "    <tr>\n",
       "      <th>0</th>\n",
       "      <td>18</td>\n",
       "      <td>1049</td>\n",
       "      <td>21</td>\n",
       "      <td>1</td>\n",
       "      <td>0</td>\n",
       "      <td>0</td>\n",
       "      <td>0</td>\n",
       "      <td>0</td>\n",
       "      <td>0</td>\n",
       "      <td>0</td>\n",
       "      <td>...</td>\n",
       "      <td>0</td>\n",
       "      <td>0</td>\n",
       "      <td>1</td>\n",
       "      <td>0</td>\n",
       "      <td>1</td>\n",
       "      <td>0</td>\n",
       "      <td>1</td>\n",
       "      <td>0</td>\n",
       "      <td>1</td>\n",
       "      <td>0</td>\n",
       "    </tr>\n",
       "    <tr>\n",
       "      <th>1</th>\n",
       "      <td>9</td>\n",
       "      <td>2799</td>\n",
       "      <td>36</td>\n",
       "      <td>1</td>\n",
       "      <td>0</td>\n",
       "      <td>0</td>\n",
       "      <td>0</td>\n",
       "      <td>0</td>\n",
       "      <td>0</td>\n",
       "      <td>0</td>\n",
       "      <td>...</td>\n",
       "      <td>0</td>\n",
       "      <td>0</td>\n",
       "      <td>1</td>\n",
       "      <td>0</td>\n",
       "      <td>0</td>\n",
       "      <td>1</td>\n",
       "      <td>1</td>\n",
       "      <td>0</td>\n",
       "      <td>1</td>\n",
       "      <td>0</td>\n",
       "    </tr>\n",
       "    <tr>\n",
       "      <th>2</th>\n",
       "      <td>12</td>\n",
       "      <td>841</td>\n",
       "      <td>23</td>\n",
       "      <td>0</td>\n",
       "      <td>1</td>\n",
       "      <td>0</td>\n",
       "      <td>0</td>\n",
       "      <td>0</td>\n",
       "      <td>0</td>\n",
       "      <td>1</td>\n",
       "      <td>...</td>\n",
       "      <td>0</td>\n",
       "      <td>1</td>\n",
       "      <td>0</td>\n",
       "      <td>0</td>\n",
       "      <td>1</td>\n",
       "      <td>0</td>\n",
       "      <td>1</td>\n",
       "      <td>0</td>\n",
       "      <td>1</td>\n",
       "      <td>0</td>\n",
       "    </tr>\n",
       "    <tr>\n",
       "      <th>3</th>\n",
       "      <td>12</td>\n",
       "      <td>2122</td>\n",
       "      <td>39</td>\n",
       "      <td>1</td>\n",
       "      <td>0</td>\n",
       "      <td>0</td>\n",
       "      <td>0</td>\n",
       "      <td>0</td>\n",
       "      <td>0</td>\n",
       "      <td>0</td>\n",
       "      <td>...</td>\n",
       "      <td>0</td>\n",
       "      <td>1</td>\n",
       "      <td>0</td>\n",
       "      <td>0</td>\n",
       "      <td>0</td>\n",
       "      <td>1</td>\n",
       "      <td>1</td>\n",
       "      <td>0</td>\n",
       "      <td>0</td>\n",
       "      <td>1</td>\n",
       "    </tr>\n",
       "    <tr>\n",
       "      <th>4</th>\n",
       "      <td>12</td>\n",
       "      <td>2171</td>\n",
       "      <td>38</td>\n",
       "      <td>1</td>\n",
       "      <td>0</td>\n",
       "      <td>0</td>\n",
       "      <td>0</td>\n",
       "      <td>0</td>\n",
       "      <td>0</td>\n",
       "      <td>0</td>\n",
       "      <td>...</td>\n",
       "      <td>0</td>\n",
       "      <td>1</td>\n",
       "      <td>0</td>\n",
       "      <td>0</td>\n",
       "      <td>1</td>\n",
       "      <td>0</td>\n",
       "      <td>1</td>\n",
       "      <td>0</td>\n",
       "      <td>0</td>\n",
       "      <td>1</td>\n",
       "    </tr>\n",
       "  </tbody>\n",
       "</table>\n",
       "<p>5 rows × 71 columns</p>\n",
       "</div>"
      ],
      "text/plain": [
       "   Duration of Credit (month)  Credit Amount  Age (years)  Account Balance_1  \\\n",
       "0                          18           1049           21                  1   \n",
       "1                           9           2799           36                  1   \n",
       "2                          12            841           23                  0   \n",
       "3                          12           2122           39                  1   \n",
       "4                          12           2171           38                  1   \n",
       "\n",
       "   Account Balance_2  Account Balance_3  Account Balance_4  \\\n",
       "0                  0                  0                  0   \n",
       "1                  0                  0                  0   \n",
       "2                  1                  0                  0   \n",
       "3                  0                  0                  0   \n",
       "4                  0                  0                  0   \n",
       "\n",
       "   Payment Status of Previous Credit_0  Payment Status of Previous Credit_1  \\\n",
       "0                                    0                                    0   \n",
       "1                                    0                                    0   \n",
       "2                                    0                                    0   \n",
       "3                                    0                                    0   \n",
       "4                                    0                                    0   \n",
       "\n",
       "   Payment Status of Previous Credit_2        ...         Occupation_1  \\\n",
       "0                                    0        ...                    0   \n",
       "1                                    0        ...                    0   \n",
       "2                                    1        ...                    0   \n",
       "3                                    0        ...                    0   \n",
       "4                                    0        ...                    0   \n",
       "\n",
       "   Occupation_2  Occupation_3  Occupation_4  No of dependents_1  \\\n",
       "0             0             1             0                   1   \n",
       "1             0             1             0                   0   \n",
       "2             1             0             0                   1   \n",
       "3             1             0             0                   0   \n",
       "4             1             0             0                   1   \n",
       "\n",
       "   No of dependents_2  Telephone_1  Telephone_2  Foreign Worker_1  \\\n",
       "0                   0            1            0                 1   \n",
       "1                   1            1            0                 1   \n",
       "2                   0            1            0                 1   \n",
       "3                   1            1            0                 0   \n",
       "4                   0            1            0                 0   \n",
       "\n",
       "   Foreign Worker_2  \n",
       "0                 0  \n",
       "1                 0  \n",
       "2                 0  \n",
       "3                 1  \n",
       "4                 1  \n",
       "\n",
       "[5 rows x 71 columns]"
      ]
     },
     "execution_count": 14,
     "metadata": {},
     "output_type": "execute_result"
    }
   ],
   "source": [
    "df2 = pd.get_dummies(data = df1, columns = cat_var, drop_first = False)\n",
    "df2.head(5)"
   ]
  },
  {
   "cell_type": "markdown",
   "metadata": {},
   "source": [
    "## Creating X & y to split, train & test"
   ]
  },
  {
   "cell_type": "code",
   "execution_count": 15,
   "metadata": {
    "collapsed": false
   },
   "outputs": [
    {
     "name": "stdout",
     "output_type": "stream",
     "text": [
      "Size of y is (1000L,)\n",
      "Sample output for y : [1 1 1 1 1]\n",
      "Size of X is (1000L, 71L)\n",
      "Sample output forr X :\n",
      " [[  18 1049   21    1    0    0    0    0    0    0    0    1    0    0\n",
      "     1    0    0    0    0    0    0    0    1    0    0    0    0    0\n",
      "     1    0    0    0    0    0    0    1    0    1    0    0    1    0\n",
      "     0    0    0    0    1    0    1    0    0    0    0    1    1    0\n",
      "     0    1    0    0    0    0    0    1    0    1    0    1    0    1\n",
      "     0]\n",
      " [   9 2799   36    1    0    0    0    0    0    0    0    1    1    0\n",
      "     0    0    0    0    0    0    0    0    1    0    0    0    0    0\n",
      "     0    1    0    0    0    1    0    0    0    0    1    0    1    0\n",
      "     0    0    1    0    0    1    0    0    0    0    0    1    1    0\n",
      "     0    0    1    0    0    0    0    1    0    0    1    1    0    1\n",
      "     0]\n",
      " [  12  841   23    0    1    0    0    0    0    1    0    0    0    0\n",
      "     0    0    0    0    0    0    1    0    0    1    0    0    0    0\n",
      "     0    0    1    0    0    1    0    0    0    1    0    0    1    0\n",
      "     0    0    0    0    1    1    0    0    0    0    0    1    1    0\n",
      "     0    1    0    0    0    0    1    0    0    1    0    1    0    1\n",
      "     0]\n",
      " [  12 2122   39    1    0    0    0    0    0    0    0    1    1    0\n",
      "     0    0    0    0    0    0    0    0    1    0    0    0    0    0\n",
      "     0    1    0    0    0    0    1    0    0    0    1    0    1    0\n",
      "     0    0    1    0    0    1    0    0    0    0    0    1    1    0\n",
      "     0    0    1    0    0    0    1    0    0    0    1    1    0    0\n",
      "     1]\n",
      " [  12 2171   38    1    0    0    0    0    0    0    0    1    1    0\n",
      "     0    0    0    0    0    0    0    0    1    0    0    0    0    0\n",
      "     0    1    0    0    0    0    0    1    0    0    1    0    1    0\n",
      "     0    0    0    0    1    0    1    0    0    1    0    0    0    1\n",
      "     0    0    1    0    0    0    1    0    0    1    0    1    0    0\n",
      "     1]]\n"
     ]
    }
   ],
   "source": [
    "y = df[target_var].values\n",
    "X= df2.values\n",
    "y = np.ravel(y)\n",
    "print \"Size of y is {}\".format(y.shape)\n",
    "print \"Sample output for y : {}\".format(y[:5])\n",
    "print \"Size of X is {}\".format(X.shape)\n",
    "print \"Sample output forr X :\\n {}\".format(X[:5,:])"
   ]
  },
  {
   "cell_type": "markdown",
   "metadata": {},
   "source": [
    " ## Splitting the data into test and train in order to build a model"
   ]
  },
  {
   "cell_type": "code",
   "execution_count": 16,
   "metadata": {
    "collapsed": true
   },
   "outputs": [],
   "source": [
    "X_train, X_test, y_train, y_test = train_test_split(X, y, test_size = 0.5, random_state = 101)"
   ]
  },
  {
   "cell_type": "code",
   "execution_count": 17,
   "metadata": {
    "collapsed": false
   },
   "outputs": [
    {
     "name": "stdout",
     "output_type": "stream",
     "text": [
      "(500L, 71L)\n",
      "(500L,)\n",
      "(500L, 71L)\n",
      "(500L,)\n"
     ]
    }
   ],
   "source": [
    "print X_train.shape\n",
    "print y_train.shape\n",
    "print X_test.shape\n",
    "print y_test.shape"
   ]
  },
  {
   "cell_type": "markdown",
   "metadata": {},
   "source": [
    "## Building Random Forests"
   ]
  },
  {
   "cell_type": "code",
   "execution_count": 22,
   "metadata": {
    "collapsed": false
   },
   "outputs": [
    {
     "name": "stdout",
     "output_type": "stream",
     "text": [
      "Training accuracy is 100.0\n",
      "Test accuracy is 74.6\n",
      "Confusin Matrix \n",
      " [[ 40 108]\n",
      " [ 19 333]]\n",
      "Classification Report \n",
      "              precision    recall  f1-score   support\n",
      "\n",
      "          0       0.68      0.27      0.39       148\n",
      "          1       0.76      0.95      0.84       352\n",
      "\n",
      "avg / total       0.73      0.75      0.71       500\n",
      "\n",
      "Mean validation accuracy across 10 splits for train data is 0.72587194878\n",
      "Mean validation accuracy across 10 splits for train data is 0.732\n"
     ]
    },
    {
     "data": {
      "image/png": "[encoded data removed]",
      "text/plain": [
       "<matplotlib.figure.Figure at 0xd650eb8>"
      ]
     },
     "metadata": {},
     "output_type": "display_data"
    },
    {
     "name": "stdout",
     "output_type": "stream",
     "text": [
      "Area under the curve is 0.812068105037\n"
     ]
    }
   ],
   "source": [
    "clf = RandomForestClassifier(n_estimators = 1000 , criterion = 'gini', max_features = 'sqrt', oob_score = True, random_state = 101)\n",
    "clf = clf.fit(X_train, y_train)\n",
    "\n",
    "#predicting class labels for train set\n",
    "predict_train = clf.predict(X_train)\n",
    "\n",
    "# predicting probabilities\n",
    "probs_train = clf.predict_proba(X_train)\n",
    "\n",
    "#predicting class labels for test set\n",
    "predict_test = clf.predict(X_test)\n",
    "\n",
    "# predicting probabilities\n",
    "probs_test = clf.predict_proba(X_test)\n",
    "\n",
    "#Evaluating the model\n",
    "print \"Training accuracy is {}\".format((metrics.accuracy_score(y_train,predict_train))*100)\n",
    "print \"Test accuracy is {}\".format((metrics.accuracy_score(y_test,predict_test))*100)\n",
    "\n",
    "#Creating a confusion matrix\n",
    "print \"Confusin Matrix \\n {}\".format(metrics.confusion_matrix(y_test, predict_test))\n",
    "\n",
    "#generating a classification report\n",
    "print \"Classification Report \\n {}\".format(metrics.classification_report(y_test, predict_test))\n",
    "\n",
    "#Introducing cross validation and evaluating the models\n",
    "\n",
    "print \"Mean validation accuracy across 10 splits for train data is {}\".format(np.mean(cross_val_score(clf, X_train, y_train, scoring = 'accuracy', cv = 10)))\n",
    "print \"Mean validation accuracy across 10 splits for train data is {}\".format(np.mean(cross_val_score(clf, X, y, scoring = 'accuracy', cv = 10)))\n",
    "\n",
    "#ROC for the model\n",
    "fpr, tpr, thresholds = metrics.roc_curve(y_test, probs_test[:,1], pos_label = 1 )\n",
    "# print \"FP Rate, TP Rate & Thresholds\"\n",
    "# print \"FP Rate is \\n {}\".format(fpr)\n",
    "# print \"TP Rate is \\n {}\".format(tpr)\n",
    "# print thresholds\n",
    "# print fpr.shape\n",
    "# print tpr.shape\n",
    "# print thresholds.shape\n",
    "\n",
    "#plotting the ROC curve\n",
    "fig=plt.figure()\n",
    "plt.plot(fpr, tpr, 'r')\n",
    "plt.xlabel(\"False Positive Rate\")\n",
    "plt.ylabel(\"True Positive Rate\")\n",
    "plt.show()\n",
    "fig.savefig('png2.png')\n",
    "plt.close()\n",
    "\n",
    "#Calculating Area under the curve\n",
    "print \"Area under the curve is {}\".format(metrics.auc(fpr,tpr))\n"
   ]
  },
  {
   "cell_type": "markdown",
   "metadata": {},
   "source": [
    "## Comparing Random Forest  with Decision Trees & Logistic Regression"
   ]
  },
  {
   "cell_type": "code",
   "execution_count": 33,
   "metadata": {
    "collapsed": false
   },
   "outputs": [
    {
     "name": "stdout",
     "output_type": "stream",
     "text": [
      "Training accuracy for RandomForestClassifier(bootstrap=True, class_weight=None, criterion='gini',\n",
      "            max_depth=None, max_features='sqrt', max_leaf_nodes=None,\n",
      "            min_impurity_split=1e-07, min_samples_leaf=1,\n",
      "            min_samples_split=2, min_weight_fraction_leaf=0.0,\n",
      "            n_estimators=1000, n_jobs=1, oob_score=True, random_state=101,\n",
      "            verbose=0, warm_start=False) is 100.0\n",
      "Test accuracy for RandomForestClassifier(bootstrap=True, class_weight=None, criterion='gini',\n",
      "            max_depth=None, max_features='sqrt', max_leaf_nodes=None,\n",
      "            min_impurity_split=1e-07, min_samples_leaf=1,\n",
      "            min_samples_split=2, min_weight_fraction_leaf=0.0,\n",
      "            n_estimators=1000, n_jobs=1, oob_score=True, random_state=101,\n",
      "            verbose=0, warm_start=False) is 74.6\n",
      "Confusin Matrix for RandomForestClassifier(bootstrap=True, class_weight=None, criterion='gini',\n",
      "            max_depth=None, max_features='sqrt', max_leaf_nodes=None,\n",
      "            min_impurity_split=1e-07, min_samples_leaf=1,\n",
      "            min_samples_split=2, min_weight_fraction_leaf=0.0,\n",
      "            n_estimators=1000, n_jobs=1, oob_score=True, random_state=101,\n",
      "            verbose=0, warm_start=False) \n",
      " [[ 40 108]\n",
      " [ 19 333]]\n",
      "Classification Report for RandomForestClassifier(bootstrap=True, class_weight=None, criterion='gini',\n",
      "            max_depth=None, max_features='sqrt', max_leaf_nodes=None,\n",
      "            min_impurity_split=1e-07, min_samples_leaf=1,\n",
      "            min_samples_split=2, min_weight_fraction_leaf=0.0,\n",
      "            n_estimators=1000, n_jobs=1, oob_score=True, random_state=101,\n",
      "            verbose=0, warm_start=False) \n",
      "              precision    recall  f1-score   support\n",
      "\n",
      "          0       0.68      0.27      0.39       148\n",
      "          1       0.76      0.95      0.84       352\n",
      "\n",
      "avg / total       0.73      0.75      0.71       500\n",
      "\n",
      "Area under the curve for RandomForestClassifier(bootstrap=True, class_weight=None, criterion='gini',\n",
      "            max_depth=None, max_features='sqrt', max_leaf_nodes=None,\n",
      "            min_impurity_split=1e-07, min_samples_leaf=1,\n",
      "            min_samples_split=2, min_weight_fraction_leaf=0.0,\n",
      "            n_estimators=1000, n_jobs=1, oob_score=True, random_state=101,\n",
      "            verbose=0, warm_start=False) is 0.812068105037\n",
      "Training accuracy for DecisionTreeClassifier(class_weight=None, criterion='gini', max_depth=None,\n",
      "            max_features=None, max_leaf_nodes=None,\n",
      "            min_impurity_split=1e-07, min_samples_leaf=1,\n",
      "            min_samples_split=5, min_weight_fraction_leaf=0.0,\n",
      "            presort=False, random_state=101, splitter='best') is 96.2\n",
      "Test accuracy for DecisionTreeClassifier(class_weight=None, criterion='gini', max_depth=None,\n",
      "            max_features=None, max_leaf_nodes=None,\n",
      "            min_impurity_split=1e-07, min_samples_leaf=1,\n",
      "            min_samples_split=5, min_weight_fraction_leaf=0.0,\n",
      "            presort=False, random_state=101, splitter='best') is 68.6\n",
      "Confusin Matrix for DecisionTreeClassifier(class_weight=None, criterion='gini', max_depth=None,\n",
      "            max_features=None, max_leaf_nodes=None,\n",
      "            min_impurity_split=1e-07, min_samples_leaf=1,\n",
      "            min_samples_split=5, min_weight_fraction_leaf=0.0,\n",
      "            presort=False, random_state=101, splitter='best') \n",
      " [[ 70  78]\n",
      " [ 79 273]]\n",
      "Classification Report for DecisionTreeClassifier(class_weight=None, criterion='gini', max_depth=None,\n",
      "            max_features=None, max_leaf_nodes=None,\n",
      "            min_impurity_split=1e-07, min_samples_leaf=1,\n",
      "            min_samples_split=5, min_weight_fraction_leaf=0.0,\n",
      "            presort=False, random_state=101, splitter='best') \n",
      "              precision    recall  f1-score   support\n",
      "\n",
      "          0       0.47      0.47      0.47       148\n",
      "          1       0.78      0.78      0.78       352\n",
      "\n",
      "avg / total       0.69      0.69      0.69       500\n",
      "\n",
      "Area under the curve for DecisionTreeClassifier(class_weight=None, criterion='gini', max_depth=None,\n",
      "            max_features=None, max_leaf_nodes=None,\n",
      "            min_impurity_split=1e-07, min_samples_leaf=1,\n",
      "            min_samples_split=5, min_weight_fraction_leaf=0.0,\n",
      "            presort=False, random_state=101, splitter='best') is 0.618358415233\n",
      "Training accuracy for LogisticRegression(C=1.0, class_weight=None, dual=False, fit_intercept=True,\n",
      "          intercept_scaling=1, max_iter=100, multi_class='ovr', n_jobs=1,\n",
      "          penalty='l2', random_state=101, solver='liblinear', tol=0.0001,\n",
      "          verbose=0, warm_start=False) is 80.8\n",
      "Test accuracy for LogisticRegression(C=1.0, class_weight=None, dual=False, fit_intercept=True,\n",
      "          intercept_scaling=1, max_iter=100, multi_class='ovr', n_jobs=1,\n",
      "          penalty='l2', random_state=101, solver='liblinear', tol=0.0001,\n",
      "          verbose=0, warm_start=False) is 76.8\n",
      "Confusin Matrix for LogisticRegression(C=1.0, class_weight=None, dual=False, fit_intercept=True,\n",
      "          intercept_scaling=1, max_iter=100, multi_class='ovr', n_jobs=1,\n",
      "          penalty='l2', random_state=101, solver='liblinear', tol=0.0001,\n",
      "          verbose=0, warm_start=False) \n",
      " [[ 69  79]\n",
      " [ 37 315]]\n",
      "Classification Report for LogisticRegression(C=1.0, class_weight=None, dual=False, fit_intercept=True,\n",
      "          intercept_scaling=1, max_iter=100, multi_class='ovr', n_jobs=1,\n",
      "          penalty='l2', random_state=101, solver='liblinear', tol=0.0001,\n",
      "          verbose=0, warm_start=False) \n",
      "              precision    recall  f1-score   support\n",
      "\n",
      "          0       0.65      0.47      0.54       148\n",
      "          1       0.80      0.89      0.84       352\n",
      "\n",
      "avg / total       0.76      0.77      0.76       500\n",
      "\n",
      "Area under the curve for LogisticRegression(C=1.0, class_weight=None, dual=False, fit_intercept=True,\n",
      "          intercept_scaling=1, max_iter=100, multi_class='ovr', n_jobs=1,\n",
      "          penalty='l2', random_state=101, solver='liblinear', tol=0.0001,\n",
      "          verbose=0, warm_start=False) is 0.789715141278\n",
      "[100.0, 96.200000000000003, 80.800000000000011]\n",
      "[74.599999999999994, 68.600000000000009, 76.799999999999997]\n"
     ]
    },
    {
     "data": {
      "image/png": "[encoded data removed]",
      "text/plain": [
       "<matplotlib.figure.Figure at 0xe6c28d0>"
      ]
     },
     "metadata": {},
     "output_type": "display_data"
    }
   ],
   "source": [
    "clf_RF = RandomForestClassifier(n_estimators = 1000 , criterion = 'gini', max_features = 'sqrt', oob_score = True, random_state = 101)\n",
    "clf_tree = tree.DecisionTreeClassifier(min_samples_split = 5, random_state = 101)\n",
    "clf_logistic = LogisticRegression(random_state = 101)\n",
    "\n",
    "models = [clf_RF, clf_tree, clf_logistic]\n",
    "fig=plt.figure()\n",
    "color = ['r','b','g']\n",
    "i = 0\n",
    "label = ['Random Forest','Decision Tree', 'Logistic Regression']\n",
    "j = 0\n",
    "list_train = []\n",
    "list_test = []\n",
    "for mod in models:\n",
    "    \n",
    "    #training the models\n",
    "    mod.fit(X_train,y_train)\n",
    "\n",
    "    #predicting class labels for train set\n",
    "    predict_train = mod.predict(X_train)\n",
    "    \n",
    "    # predicting probabilities\n",
    "    probs_train = mod.predict_proba(X_train)\n",
    "\n",
    "    #predicting class labels for test set\n",
    "    predict_test = mod.predict(X_test)\n",
    "\n",
    "    # predicting probabilities\n",
    "    probs_test = mod.predict_proba(X_test)\n",
    "    \n",
    "    #Evaluating the model\n",
    "    print \"Training accuracy for {} is {}\".format(mod, (metrics.accuracy_score(y_train,predict_train))*100)\n",
    "    list_train.append(metrics.accuracy_score(y_train,predict_train)*100)\n",
    "    print \"Test accuracy for {} is {}\".format(mod, (metrics.accuracy_score(y_test,predict_test))*100)\n",
    "    list_test.append(metrics.accuracy_score(y_test,predict_test)*100)\n",
    "    \n",
    "    \n",
    "    #Creating a confusion matrix\n",
    "    print \"Confusin Matrix for {} \\n {}\".format(mod, metrics.confusion_matrix(y_test, predict_test))\n",
    "    \n",
    "    #generating a classification report\n",
    "    print \"Classification Report for {} \\n {}\".format(mod, metrics.classification_report(y_test, predict_test))\n",
    "    \n",
    "    #ROC for the model\n",
    "    fpr, tpr, thresholds = metrics.roc_curve(y_test, probs_test[:,1], pos_label = 1 )\n",
    "    \n",
    "    #plotting the ROC curve\n",
    "    plt.plot(fpr, tpr, color = color[i], label = label[j])\n",
    "    i += 1\n",
    "    j += 1\n",
    "    plt.xlabel(\"False Positive Rate\")\n",
    "    plt.ylabel(\"True Positive Rate\")\n",
    "    plt.legend(loc = 4)\n",
    "#     plt.show()\n",
    "#     fig.savefig('png2.png')\n",
    "#     plt.close()\n",
    "\n",
    "    #Calculating Area under the curve\n",
    "    print \"Area under the curve for {} is {}\".format(mod, metrics.auc(fpr,tpr))\n",
    "    \n",
    "print list_train\n",
    "print list_test\n"
   ]
  },
  {
   "cell_type": "code",
   "execution_count": 41,
   "metadata": {
    "collapsed": false
   },
   "outputs": [
    {
     "data": {
      "image/png": "[encoded data removed]",
      "text/plain": [
       "<matplotlib.figure.Figure at 0xcf3b588>"
      ]
     },
     "metadata": {},
     "output_type": "display_data"
    }
   ],
   "source": [
    "fig, ax = plt.subplots()\n",
    "ind = np.arange(0,6,1)\n",
    "rect1 = ax.bar(ind[[0,2,4]],list_train, 0.3, color = 'c', alpha = 0.4)\n",
    "rect2 = ax.bar(ind[[1,3,5]]+0.1,list_test, 0.3, color = 'm', alpha = 0.4)\n",
    "ax.set_title(\"Comparing Accuracies\")\n",
    "ax.set_ylabel(\"Accuracy\")\n",
    "ax.set_xticks(ind+0.1/2)\n",
    "ax.set_xticklabels(['Random Forest - Train','Random Forest - Test','Decision Tree - Train','Decision Tree - Test','Logistic Reg - Train','Logistic Reg - Test'],rotation = 90)\n",
    "\n",
    "\n",
    "def autolabel(rects):\n",
    "    \"\"\"\n",
    "    Attach a text label above each bar displaying its height\n",
    "    \"\"\"\n",
    "    for rect in rects:\n",
    "        height = rect.get_height()\n",
    "        ax.text(rect.get_x() + rect.get_width()/2., 1.05*height,\n",
    "                '%d' % int(height),\n",
    "                ha='center', va='bottom')\n",
    "\n",
    "ax.set_ylim([0,120])\n",
    "autolabel(rect1)\n",
    "autolabel(rect2)\n",
    "plt.show()"
   ]
  },
  {
   "cell_type": "code",
   "execution_count": null,
   "metadata": {
    "collapsed": true
   },
   "outputs": [],
   "source": []
  }
 ],
 "metadata": {
  "anaconda-cloud": {},
  "kernelspec": {
   "display_name": "Python [conda root]",
   "language": "python",
   "name": "conda-root-py"
  },
  "language_info": {
   "codemirror_mode": {
    "name": "ipython",
    "version": 2
   },
   "file_extension": ".py",
   "mimetype": "text/x-python",
   "name": "python",
   "nbconvert_exporter": "python",
   "pygments_lexer": "ipython2",
   "version": "2.7.12"
  }
 },
 "nbformat": 4,
 "nbformat_minor": 1
}
